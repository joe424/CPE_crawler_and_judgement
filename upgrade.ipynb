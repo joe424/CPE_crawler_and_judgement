{
 "cells": [
  {
   "cell_type": "code",
   "execution_count": 1,
   "metadata": {},
   "outputs": [],
   "source": [
    "import os\n",
    "from shutil import copyfile"
   ]
  },
  {
   "cell_type": "code",
   "execution_count": 2,
   "metadata": {},
   "outputs": [],
   "source": [
    "compile_failed = os.system('g++ compare.cpp -o compare.exe')"
   ]
  },
  {
   "cell_type": "code",
   "execution_count": 3,
   "metadata": {},
   "outputs": [],
   "source": [
    "if not compile_failed:\n",
    "    d_name = os.path.join(os.getcwd(), 'CPE')\n",
    "    if os.path.exists(d_name):\n",
    "        for f1 in os.listdir(d_name):\n",
    "            for f2 in os.listdir(os.path.join(d_name, f1)):\n",
    "                if os.path.isfile(os.path.join(d_name, f1, f2, 'compare.exe')):\n",
    "                    os.remove(os.path.join(d_name, f1, f2, 'compare.exe'))\n",
    "                copyfile(os.path.join(os.getcwd(), 'compare.exe'), os.path.join(d_name, f1, f2, 'compare.exe'))\n",
    "\n",
    "\n",
    "    else:\n",
    "        print(\"folder 'CPE' not exist!\")\n",
    "else:\n",
    "    print(\"compile failed!\")"
   ]
  },
  {
   "cell_type": "code",
   "execution_count": null,
   "metadata": {},
   "outputs": [],
   "source": []
  }
 ],
 "metadata": {
  "kernelspec": {
   "display_name": "Python 3",
   "language": "python",
   "name": "python3"
  },
  "language_info": {
   "codemirror_mode": {
    "name": "ipython",
    "version": 3
   },
   "file_extension": ".py",
   "mimetype": "text/x-python",
   "name": "python",
   "nbconvert_exporter": "python",
   "pygments_lexer": "ipython3",
   "version": "3.7.6"
  }
 },
 "nbformat": 4,
 "nbformat_minor": 4
}
